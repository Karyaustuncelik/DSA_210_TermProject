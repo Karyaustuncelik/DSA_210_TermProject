{
 "cells": [
  {
   "cell_type": "markdown",
   "id": "4a0175f3",
   "metadata": {},
   "source": [
    "# Weight Management Project - Machine Learning\n",
    "\n",
    "This notebook applies a Linear Regression model to predict tomorrow's weight based on today's habits."
   ]
  },
  {
   "cell_type": "code",
   "execution_count": null,
   "id": "2356bde4",
   "metadata": {},
   "outputs": [],
   "source": [
    "import pandas as pd\n",
    "import numpy as np\n",
    "from sklearn.model_selection import train_test_split\n",
    "from sklearn.linear_model import LinearRegression\n",
    "from sklearn.metrics import mean_squared_error, mean_absolute_error, r2_score\n",
    "\n",
    "# Load dataset\n",
    "df = pd.read_csv(\"weight_mgmt_dataset.csv\")\n",
    "df[\"Date\"] = pd.to_datetime(df[\"Date\"], errors='coerce')\n",
    "df.head()"
   ]
  },
  {
   "cell_type": "code",
   "execution_count": null,
   "id": "53d0363a",
   "metadata": {},
   "outputs": [],
   "source": [
    "# Create target variable: Tomorrow's Weight\n",
    "df['Tomorrow_Weight'] = df['Weight (kg)'].shift(-1)\n",
    "df = df.dropna(subset=['Tomorrow_Weight'])\n",
    "df.head()"
   ]
  },
  {
   "cell_type": "code",
   "execution_count": null,
   "id": "71147044",
   "metadata": {},
   "outputs": [],
   "source": [
    "# Select Features and Target\n",
    "features = [\"Calories\", \"Protein (g)\", \"Fat (g)\", \"Carbs (g)\", \"Gym (min)\", \"Sleep Hours\", \"Water Intake (L)\", \"Step Count\", \"Exercise Minutes\"]\n",
    "X = df[features]\n",
    "y = df['Tomorrow_Weight']\n",
    "\n",
    "# Split into Training and Testing Sets\n",
    "X_train, X_test, y_train, y_test = train_test_split(X, y, test_size=0.2, random_state=42, shuffle=False)\n",
    "X_train.shape, X_test.shape"
   ]
  },
  {
   "cell_type": "code",
   "execution_count": null,
   "id": "098dbd66",
   "metadata": {},
   "outputs": [],
   "source": [
    "# Train Linear Regression Model\n",
    "model = LinearRegression()\n",
    "model.fit(X_train, y_train)\n",
    "\n",
    "# Predict\n",
    "y_pred = model.predict(X_test)\n",
    "\n",
    "# Evaluate\n",
    "mse = mean_squared_error(y_test, y_pred)\n",
    "mae = mean_absolute_error(y_test, y_pred)\n",
    "r2 = r2_score(y_test, y_pred)\n",
    "\n",
    "# Display Results\n",
    "print(\"Mean Squared Error:\", mse)\n",
    "print(\"Mean Absolute Error:\", mae)\n",
    "print(\"R2 Score:\", r2)\n"
   ]
  }
 ],
 "metadata": {},
 "nbformat": 4,
 "nbformat_minor": 5
}
