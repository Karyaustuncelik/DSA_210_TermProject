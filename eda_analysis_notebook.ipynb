{
 "cells": [
  {
   "cell_type": "markdown",
   "id": "02320d38",
   "metadata": {},
   "source": [
    "# Weight Management Project\n",
    "Exploratory Data Analysis & Hypothesis Testing"
   ]
  },
  {
   "cell_type": "code",
   "execution_count": null,
   "id": "236fc46f",
   "metadata": {},
   "outputs": [],
   "source": [
    "import pandas as pd\n",
    "import numpy as np\n",
    "import matplotlib.pyplot as plt\n",
    "import seaborn as sns\n",
    "from scipy.stats import ttest_ind\n",
    "\n",
    "\n",
    "df = pd.read_csv(\"weight_mgmt_dataset.csv\")\n",
    "df.head()"
   ]
  },
  {
   "cell_type": "code",
   "execution_count": null,
   "id": "679a2c4e",
   "metadata": {},
   "outputs": [],
   "source": [
    "df.describe().round(2)"
   ]
  },
  {
   "cell_type": "code",
   "execution_count": null,
   "id": "0efebf47",
   "metadata": {},
   "outputs": [],
   "source": [
    "plt.figure(figsize=(12,6))\n",
    "plt.plot(df['Date'], df['Weight)'], marker='o')\n",
    "plt.xticks(rotation=45)\n",
    "plt.title('Weight Changing Over Time')\n",
    "plt.xlabel('Date')\n",
    "plt.ylabel('Weight')\n",
    "plt.grid(True)\n",
    "plt.tight_layout()\n",
    "plt.show()"
   ]
  },
  {
   "cell_type": "code",
   "execution_count": null,
   "id": "50a81618",
   "metadata": {},
   "outputs": [],
   "source": [
    "corr = df.drop(columns=['Date']).corr()\n",
    "plt.figure(figsize=(8,5))\n",
    "sns.heatmap(corr, annot=True, cmap='coolwarm', fmt='.2f', linewidths=.5)\n",
    "plt.title('Correlation Heatmap')\n",
    "plt.tight_layout()\n",
    "plt.show()"
   ]
  },
  {
   "cell_type": "code",
   "execution_count": null,
   "id": "702d4c44",
   "metadata": {},
   "outputs": [],
   "source": [
    "gym_days = df[df['Gym (min)'] > 0]['Weight']\n",
    "no_gym_days = df[df['Gym (min)'] == 0]['Weight']\n",
    "\n",
    "t_stat, p_val = ttest_ind(no_gym_days, gym_days, equal_var=False)\n",
    "print(f\"Average Weight (Gym Days): {gym_days.mean():.2f} kg\")\n",
    "print(f\"Average Weight (No-Gym Days): {no_gym_days.mean():.2f} kg\")\n",
    "print(f\"T-statistic: {t_stat:.3f}\")\n",
    "print(f\"P-value: {p_val:.4f}\")\n",
    "if p_val < 0.05:\n",
    "    print('Difference is statistically significant (p < 0.05)')\n",
    "else:\n",
    "    print('No statistically significant differences (p >= 0.05)')"
   ]
  },
  {
   "cell_type": "markdown",
   "id": "54177427",
   "metadata": {},
   "source": [
    "**Conclusion:** The exploratory analysis shows a general downward trend in weight. The t-test did not reveal a statistically significant difference between gym and no-gym days, suggesting calorie intake might play a stronger role than gym minutes alone within this short observation window."
   ]
  }
 ],
 "metadata": {
  "language_info": {
   "name": "python"
  }
 },
 "nbformat": 4,
 "nbformat_minor": 5
}
