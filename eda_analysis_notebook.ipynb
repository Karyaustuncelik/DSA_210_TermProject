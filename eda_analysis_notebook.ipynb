{
 "cells": [
  {
   "cell_type": "markdown",
   "id": "3cf0f5ed",
   "metadata": {},
   "source": [
    "# Weight Management Project\n",
    "\n",
    "Complete Exploratory Data Analysis with Code and Outputs"
   ]
  },
  {
   "cell_type": "code",
   "execution_count": null,
   "id": "6faded41",
   "metadata": {},
   "outputs": [],
   "source": [
    "import pandas as pd\n",
    "import numpy as np\n",
    "import matplotlib.pyplot as plt\n",
    "import seaborn as sns\n",
    "from scipy.stats import ttest_ind\n",
    "\n",
    "# Load dataset\n",
    "df = pd.read_csv(\"weight_mgmt_dataset.csv\")\n",
    "df[\"Date\"] = pd.to_datetime(df[\"Date\"], errors='coerce')\n",
    "df.head()"
   ]
  },
  {
   "cell_type": "code",
   "execution_count": null,
   "id": "1a80dd6c",
   "metadata": {},
   "outputs": [],
   "source": [
    "# Summary Statistics\n",
    "df.describe().round(2)"
   ]
  },
  {
   "cell_type": "code",
   "execution_count": null,
   "id": "a7fe7c63",
   "metadata": {},
   "outputs": [],
   "source": [
    "# Correlation Heatmap\n",
    "plt.figure(figsize=(10, 6))\n",
    "sns.heatmap(df.corr(numeric_only=True), annot=True, cmap=\"coolwarm\", fmt=\".2f\")\n",
    "plt.title(\"Correlation Heatmap\")\n",
    "plt.show()"
   ]
  },
  {
   "cell_type": "code",
   "execution_count": null,
   "id": "f822fe3b",
   "metadata": {},
   "outputs": [],
   "source": [
    "# Pairplot\n",
    "sns.pairplot(df.select_dtypes(include=['float64', 'int64']))\n",
    "plt.show()"
   ]
  },
  {
   "cell_type": "code",
   "execution_count": null,
   "id": "23d4bf13",
   "metadata": {},
   "outputs": [],
   "source": [
    "# Weight Trend Over Time\n",
    "plt.figure(figsize=(10, 5))\n",
    "sns.lineplot(data=df, x=\"Date\", y=\"Weight (kg)\")\n",
    "plt.title(\"Weight Trend Over Time\")\n",
    "plt.xticks(rotation=45)\n",
    "plt.show()"
   ]
  }
 ],
 "metadata": {},
 "nbformat": 4,
 "nbformat_minor": 5
}
