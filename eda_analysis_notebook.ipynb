{
 "cells": [
  {
   "cell_type": "markdown",
   "id": "3cf0f5ed",
   "metadata": {},
   "source": [
    "# Weight Management Project\n",
    "\n",
    "Complete Exploratory Data Analysis with Code and Outputs"
   ]
  },
  {
   "cell_type": "code",
   "execution_count": null,
   "id": "6faded41",
   "metadata": {},
   "outputs": [],
   "source": [
    "import pandas as pd\n",
    "import numpy as np\n",
    "import matplotlib.pyplot as plt\n",
    "import seaborn as sns\n",
    "from scipy.stats import ttest_ind\n",
    "\n",
    "# Load dataset\n",
    "df = pd.read_csv(\"weight_mgmt_dataset.csv\")\n",
    "df[\"Date\"] = pd.to_datetime(df[\"Date\"], errors='coerce')\n",
    "df.head()"
   ]
  },
  {
   "cell_type": "code",
   "execution_count": null,
   "id": "1a80dd6c",
   "metadata": {},
   "outputs": [],
   "source": [
    "# Summary Statistics\n",
    "df.describe().round(2)"
   ]
  },
  {
   "cell_type": "code",
   "execution_count": null,
   "id": "a7fe7c63",
   "metadata": {},
   "outputs": [],
   "source": [
    "# Correlation Heatmap\n",
    "plt.figure(figsize=(10, 6))\n",
    "sns.heatmap(df.corr(numeric_only=True), annot=True, cmap=\"coolwarm\", fmt=\".2f\")\n",
    "plt.title(\"Correlation Heatmap\")\n",
    "plt.show()"
   ]
  },
  {
   "cell_type": "code",
   "execution_count": null,
   "id": "f822fe3b",
   "metadata": {},
   "outputs": [],
   "source": [
    "# Pairplot\n",
    "sns.pairplot(df.select_dtypes(include=['float64', 'int64']))\n",
    "plt.show()"
   ]
  },
  {
   "cell_type": "code",
   "execution_count": null,
   "id": "23d4bf13",
   "metadata": {},
   "outputs": [],
   "source": [
    "# Weight Trend Over Time\n",
    "plt.figure(figsize=(10, 5))\n",
    "sns.lineplot(data=df, x=\"Date\", y=\"Weight (kg)\")\n",
    "plt.title(\"Weight Trend Over Time\")\n",
    "plt.xticks(rotation=45)\n",
    "plt.show()"
   ]
  },
  {
   "cell_type": "markdown",
   "id": "79efe4f4",
   "metadata": {},
   "source": [
    "# Extended EDA\n",
    "\n",
    "Additional Boxplots and Histograms for deeper insights."
   ]
  },
  {
   "cell_type": "code",
   "execution_count": null,
   "id": "d40c9a16",
   "metadata": {},
   "outputs": [],
   "source": [
    "# Boxplot of Calories\n",
    "plt.figure(figsize=(6, 4))\n",
    "sns.boxplot(y=df[\"Calories\"])\n",
    "plt.title(\"Boxplot of Calories\")\n",
    "plt.show()"
   ]
  },
  {
   "cell_type": "code",
   "execution_count": null,
   "id": "77f330be",
   "metadata": {},
   "outputs": [],
   "source": [
    "# Boxplot of Protein (g)\n",
    "plt.figure(figsize=(6, 4))\n",
    "sns.boxplot(y=df[\"Protein (g)\"])\n",
    "plt.title(\"Boxplot of Protein (g)\")\n",
    "plt.show()"
   ]
  },
  {
   "cell_type": "code",
   "execution_count": null,
   "id": "29a59c0d",
   "metadata": {},
   "outputs": [],
   "source": [
    "# Boxplot of Fat (g)\n",
    "plt.figure(figsize=(6, 4))\n",
    "sns.boxplot(y=df[\"Fat (g)\"])\n",
    "plt.title(\"Boxplot of Fat (g)\")\n",
    "plt.show()"
   ]
  },
  {
   "cell_type": "code",
   "execution_count": null,
   "id": "bac0da4a",
   "metadata": {},
   "outputs": [],
   "source": [
    "# Boxplot of Carbs (g)\n",
    "plt.figure(figsize=(6, 4))\n",
    "sns.boxplot(y=df[\"Carbs (g)\"])\n",
    "plt.title(\"Boxplot of Carbs (g)\")\n",
    "plt.show()"
   ]
  },
  {
   "cell_type": "code",
   "execution_count": null,
   "id": "13c0baff",
   "metadata": {},
   "outputs": [],
   "source": [
    "# Boxplot of Gym (min)\n",
    "plt.figure(figsize=(6, 4))\n",
    "sns.boxplot(y=df[\"Gym (min)\"])\n",
    "plt.title(\"Boxplot of Gym (min)\")\n",
    "plt.show()"
   ]
  },
  {
   "cell_type": "code",
   "execution_count": null,
   "id": "3cb58652",
   "metadata": {},
   "outputs": [],
   "source": [
    "# Histogram of Calories\n",
    "plt.figure(figsize=(6, 4))\n",
    "sns.histplot(df[\"Calories\"], bins=10, kde=True)\n",
    "plt.title(\"Histogram of Calories\")\n",
    "plt.show()"
   ]
  },
  {
   "cell_type": "code",
   "execution_count": null,
   "id": "2a151de0",
   "metadata": {},
   "outputs": [],
   "source": [
    "# Histogram of Protein (g)\n",
    "plt.figure(figsize=(6, 4))\n",
    "sns.histplot(df[\"Protein (g)\"], bins=10, kde=True)\n",
    "plt.title(\"Histogram of Protein (g)\")\n",
    "plt.show()"
   ]
  },
  {
   "cell_type": "code",
   "execution_count": null,
   "id": "8c1a2ae5",
   "metadata": {},
   "outputs": [],
   "source": [
    "# Histogram of Fat (g)\n",
    "plt.figure(figsize=(6, 4))\n",
    "sns.histplot(df[\"Fat (g)\"], bins=10, kde=True)\n",
    "plt.title(\"Histogram of Fat (g)\")\n",
    "plt.show()"
   ]
  },
  {
   "cell_type": "code",
   "execution_count": null,
   "id": "18633590",
   "metadata": {},
   "outputs": [],
   "source": [
    "# Histogram of Carbs (g)\n",
    "plt.figure(figsize=(6, 4))\n",
    "sns.histplot(df[\"Carbs (g)\"], bins=10, kde=True)\n",
    "plt.title(\"Histogram of Carbs (g)\")\n",
    "plt.show()"
   ]
  },
  {
   "cell_type": "code",
   "execution_count": null,
   "id": "3ee9f580",
   "metadata": {},
   "outputs": [],
   "source": [
    "# Histogram of Gym (min)\n",
    "plt.figure(figsize=(6, 4))\n",
    "sns.histplot(df[\"Gym (min)\"], bins=10, kde=True)\n",
    "plt.title(\"Histogram of Gym (min)\")\n",
    "plt.show()"
   ]
  },
  {
   "cell_type": "code",
   "execution_count": null,
   "id": "d4ca351a",
   "metadata": {},
   "outputs": [],
   "source": [
    "# Histogram of Weight (kg)\n",
    "plt.figure(figsize=(6, 4))\n",
    "sns.histplot(df[\"Weight (kg)\"], bins=10, kde=True)\n",
    "plt.title(\"Histogram of Weight (kg)\")\n",
    "plt.show()"
   ]
  }
 ],
 "metadata": {},
 "nbformat": 4,
 "nbformat_minor": 5
}
